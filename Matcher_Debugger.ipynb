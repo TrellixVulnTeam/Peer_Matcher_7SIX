{
 "cells": [
  {
   "cell_type": "code",
   "execution_count": 2,
   "metadata": {},
   "outputs": [],
   "source": [
    "import pandas as pd"
   ]
  },
  {
   "cell_type": "code",
   "execution_count": 26,
   "metadata": {},
   "outputs": [
    {
     "data": {
      "text/plain": [
       "['Would you like to sign up to be a CONSULTANT or a CONSULTEE? (see definitions below)',\n",
       " 'First Name',\n",
       " 'Last Name',\n",
       " 'Current Email Address (please double check to make sure you have entered it correctly)',\n",
       " 'Phone Number (please double check to make sure you have entered it correctly)',\n",
       " 'How many semesters have you completed at BYU?',\n",
       " 'What is your current major?',\n",
       " 'How many semesters have you been in your current major?',\n",
       " 'What are your career goals? (Please choose all that apply.) - Selected Choice',\n",
       " 'What are your career goals? (Please choose all that apply.) - Other - Text',\n",
       " 'Have you previously participated in the Life Sciences Peer Consulting Program as a CONSULTANT?',\n",
       " 'Have you previously participated in the Life Sciences Peer Consulting Program as a CONSULTEE?',\n",
       " 'Would you like to retain your previous consultant? (Please note that your previous consultant may not have signed up for this semester. If that is the case, we will assign you a new one.)',\n",
       " 'Please enter the first AND last name of your previous consultant.',\n",
       " 'Do you have a consultant gender preference?',\n",
       " 'Please share what skills and/or experience you believe qualify you to be a peer consultant.',\n",
       " 'Will you be able to attend at least four of the five LFSCI 190R, Peer Consulting class meetings? The consultant training meeting and the kickoff event are mandatory. The meetings are as follows: 1. Consultant Training: Thursday, September 3rd at 5:00 pm in 2102 LSB 2. Kickoff Event: Thursday, September 10th at 5:00 pm in 2102 LSB3. Class Meeting 1: Thursday, October 1st at 5:00 pm in 2102 LSB4. Class Meeting 2: Thursday, October 22nd at 5:00 pm in 2102 LSB5. Class Meeting 3: Thursday, November 19th at 5:00 pm in 2102 LSB',\n",
       " 'What are you hoping to gain from your consultant this semester? (Please choose all that apply) - Selected Choice',\n",
       " 'What are you hoping to gain from your consultant this semester? (Please choose all that apply) - Other - Text',\n",
       " 'I consent for my contact information to be released to my consultees.',\n",
       " 'I consent for my contact information to be released to my consultant.',\n",
       " 'I consent for my contact information to be released to clubs relevant to my major/career path.',\n",
       " 'Keeping in mind that my consultant is receiving training and earning credit for this experience, I commit to actively participate and regularly communicate with him/her.']"
      ]
     },
     "execution_count": 26,
     "metadata": {},
     "output_type": "execute_result"
    }
   ],
   "source": [
    "my_file = pd.read_csv(\"Consultant/data\", sep = '\\t', encoding='UTF-16')\n",
    "my_columns = [x for x in my_file.columns if x.startswith(\"Q\")]\n",
    "clean_file = my_file[my_columns]\n",
    "clean_file.columns = clean_file.iloc[0]\n",
    "clean_file = clean_file[2::]\n",
    "list(clean_file.columns)"
   ]
  },
  {
   "cell_type": "code",
   "execution_count": null,
   "metadata": {},
   "outputs": [],
   "source": [
    "column_rename = {'Would you like to sign up to be a CONSULTANT or a CONSULTEE? (see definitions below)': \"Role\",\n",
    " 'First Name': \"First_Name\",\n",
    " 'Last Name': \"Last_Name\",\n",
    " 'Current Email Address (please double check to make sure you have entered it correctly)': \"Email\",\n",
    " 'Phone Number (please double check to make sure you have entered it correctly)':\"Number\",\n",
    " 'How many semesters have you completed at BYU?':\"Semesters\",\n",
    " 'What is your current major?': \"Major\",\n",
    " 'How many semesters have you been in your current major?': \"Major_Semesters\",\n",
    " 'What are your career goals? (Please choose all that apply.) - Selected Choice': \"Career_Goals\",\n",
    " 'What are your career goals? (Please choose all that apply.) - Other - Text': \"Career_Goals_Other\",\n",
    " 'Have you previously participated in the Life Sciences Peer Consulting Program as a CONSULTANT?': \"Been_Consultant\",\n",
    " 'Have you previously participated in the Life Sciences Peer Consulting Program as a CONSULTEE?': \"Been_Consultee\",\n",
    " 'Would you like to retain your previous consultant? (Please note that your previous consultant may not have signed up for this semester. If that is the case, we will assign you a new one.)': \"Keep_Consultant\",\n",
    " 'Please enter the first AND last name of your previous consultant.': \"Previous_Consultant\",\n",
    " 'Do you have a consultant gender preference?': \"Gender_Preferenence\",\n",
    " 'Please share what skills and/or experience you believe qualify you to be a peer consultant.': \"Brag\",\n",
    " 'Will you be able to attend at least four of the five LFSCI 190R, Peer Consulting class meetings? The consultant training meeting and the kickoff event are mandatory. The meetings are as follows: 1. Consultant Training: Thursday, September 3rd at 5:00 pm in 2102 LSB 2. Kickoff Event: Thursday, September 10th at 5:00 pm in 2102 LSB3. Class Meeting 1: Thursday, October 1st at 5:00 pm in 2102 LSB4. Class Meeting 2: Thursday, October 22nd at 5:00 pm in 2102 LSB5. Class Meeting 3: Thursday, November 19th at 5:00 pm in 2102 LSB': \"No_Life\",\n",
    " 'What are you hoping to gain from your consultant this semester? (Please choose all that apply) - Selected Choice': \"Gain\",\n",
    " 'What are you hoping to gain from your consultant this semester? (Please choose all that apply) - Other - Text': \"Gain_Other\",\n",
    " 'I consent for my contact information to be released to my consultees.': \"Consultant_Consent\",\n",
    " 'I consent for my contact information to be released to my consultant.': \"Consultee_Consent\",\n",
    " 'I consent for my contact information to be released to clubs relevant to my major/career path.': \"Club_Consent\",\n",
    " 'Keeping in mind that my consultant is receiving training and earning credit for this experience, I commit to actively participate and regularly communicate with him/her.': \"STUPI\"}"
   ]
  }
 ],
 "metadata": {
  "kernelspec": {
   "display_name": "Python 3",
   "language": "python",
   "name": "python3"
  },
  "language_info": {
   "codemirror_mode": {
    "name": "ipython",
    "version": 3
   },
   "file_extension": ".py",
   "mimetype": "text/x-python",
   "name": "python",
   "nbconvert_exporter": "python",
   "pygments_lexer": "ipython3",
   "version": "3.7.4"
  }
 },
 "nbformat": 4,
 "nbformat_minor": 2
}
